{
 "cells": [
  {
   "cell_type": "code",
   "execution_count": 8,
   "metadata": {},
   "outputs": [
    {
     "name": "stdout",
     "output_type": "stream",
     "text": [
      "The autoreload extension is already loaded. To reload it, use:\n",
      "  %reload_ext autoreload\n",
      "{'train': {'objective': 'classification', 'num_epochs': 20, 'batch_size': 8, 'lr': 0.001, 'ckpt_dir': './checkpoints', 'temp': 0.1}, 'model': {'arch': 'UResNetEncoder', 'in_channels': 3, 'num_classes': 6, 'seg_classes': 2, 'filters': 32, 'dropout': 0.1, 'feat_dim': 128, 'optimizer': 'Adam', 'weight_decay': 0.0001}, 'dataset': {'path': '/gluster/data/dune/niclane/nlane_prod_strange_resample_fhc_run2_fhc_reco2_reco2_trainingimage_signal_lambdamuon_ana.root', 'tree': 'imageanalyser/ImageTree', 'dims': {'width': 512, 'height': 512}, 'planes': ['U', 'V', 'W'], 'ind_plane_idx': 2, 'filters': {'event_type': 'all'}}}\n",
      "['__class__', '__delattr__', '__dict__', '__dir__', '__doc__', '__eq__', '__format__', '__ge__', '__getattribute__', '__gt__', '__hash__', '__init__', '__init_subclass__', '__le__', '__lt__', '__module__', '__ne__', '__new__', '__reduce__', '__reduce_ex__', '__repr__', '__setattr__', '__sizeof__', '__str__', '__subclasshook__', '__weakref__', 'visualise_input_event', 'visualise_overlay_event', 'visualise_truth_event']\n"
     ]
    }
   ],
   "source": [
    "%load_ext autoreload\n",
    "%autoreload 2\n",
    "import yaml\n",
    "import os\n",
    "import torch\n",
    "import numpy as np\n",
    "import uproot\n",
    "import matplotlib.pyplot as plt\n",
    "from src.config import Config\n",
    "from src.dataset import SegmentationDataset, ContrastiveDataset  \n",
    "from src.visualiser import Visualiser\n",
    "from src.trainers import SegmentationTrainer, ContrastiveTrainer\n",
    "\n",
    "import importlib\n",
    "import src.visualiser as visualiser_module\n",
    "importlib.reload(visualiser_module)\n",
    "from src.visualiser import Visualiser\n",
    "\n",
    "pth = \"cfg/default.yaml\"\n",
    "cfg = Config(pth)\n",
    "\n",
    "print(cfg.as_dict())\n",
    "print(dir(Visualiser))"
   ]
  },
  {
   "cell_type": "code",
   "execution_count": 9,
   "metadata": {},
   "outputs": [],
   "source": [
    "ds = SegmentationDataset(cfg)\n",
    "vis = Visualiser(cfg)"
   ]
  },
  {
   "cell_type": "code",
   "execution_count": null,
   "metadata": {},
   "outputs": [],
   "source": [
    "vis.visualise_input_event(ds)"
   ]
  },
  {
   "cell_type": "code",
   "execution_count": null,
   "metadata": {},
   "outputs": [],
   "source": [
    "vis.visualise_truth_event(ds) "
   ]
  },
  {
   "cell_type": "code",
   "execution_count": null,
   "metadata": {},
   "outputs": [
    {
     "name": "stdout",
     "output_type": "stream",
     "text": [
      "Debug: Overlay Plane U unique segmentation values: [0]\n",
      "Warning: Overlay Plane U does not contain segmentation classes > 1. Unique values: [0]\n"
     ]
    },
    {
     "name": "stdout",
     "output_type": "stream",
     "text": [
      "Debug: Overlay Plane V unique segmentation values: [0]\n",
      "Warning: Overlay Plane V does not contain segmentation classes > 1. Unique values: [0]\n",
      "Debug: Overlay Plane W unique segmentation values: [0]\n",
      "Warning: Overlay Plane W does not contain segmentation classes > 1. Unique values: [0]\n"
     ]
    }
   ],
   "source": [
    "vis.visualise_overlay_event(ds)"
   ]
  },
  {
   "cell_type": "code",
   "execution_count": null,
   "metadata": {},
   "outputs": [
    {
     "name": "stdout",
     "output_type": "stream",
     "text": [
      "Debug: Overlay Plane U unique segmentation values: [0 1]\n",
      "Warning: Overlay Plane U does not contain segmentation classes > 1. Unique values: [0 1]\n",
      "Debug: Overlay Plane V unique segmentation values: [0 1]\n",
      "Warning: Overlay Plane V does not contain segmentation classes > 1. Unique values: [0 1]\n",
      "Debug: Overlay Plane W unique segmentation values: [0 1]\n",
      "Warning: Overlay Plane W does not contain segmentation classes > 1. Unique values: [0 1]\n",
      "Debug: Overlay Plane U unique segmentation values: [0 1]\n",
      "Warning: Overlay Plane U does not contain segmentation classes > 1. Unique values: [0 1]\n",
      "Debug: Overlay Plane V unique segmentation values: [0 1]\n",
      "Warning: Overlay Plane V does not contain segmentation classes > 1. Unique values: [0 1]\n",
      "Debug: Overlay Plane W unique segmentation values: [0 1]\n",
      "Warning: Overlay Plane W does not contain segmentation classes > 1. Unique values: [0 1]\n"
     ]
    }
   ],
   "source": [
    "vis.visualise_overlay_event(ds)\n",
    "vis.visualise_overlay_event(ds)"
   ]
  },
  {
   "cell_type": "code",
   "execution_count": null,
   "metadata": {},
   "outputs": [],
   "source": []
  }
 ],
 "metadata": {
  "kernelspec": {
   "display_name": "pythondl",
   "language": "python",
   "name": "python3"
  },
  "language_info": {
   "codemirror_mode": {
    "name": "ipython",
    "version": 3
   },
   "file_extension": ".py",
   "mimetype": "text/x-python",
   "name": "python",
   "nbconvert_exporter": "python",
   "pygments_lexer": "ipython3",
   "version": "3.8.20"
  }
 },
 "nbformat": 4,
 "nbformat_minor": 2
}
