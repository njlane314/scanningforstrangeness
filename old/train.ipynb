{
 "cells": [
  {
   "cell_type": "code",
   "execution_count": 1,
   "metadata": {},
   "outputs": [
    {
     "name": "stdout",
     "output_type": "stream",
     "text": [
      "{'train': {'objective': 'classification', 'num_epochs': 20, 'batch_size': 8, 'lr': 0.001, 'ckpt_dir': './checkpoints', 'temp': 0.1}, 'model': {'arch': 'UResNetEncoder', 'in_channels': 3, 'num_classes': 6, 'seg_classes': 6, 'filters': 32, 'dropout': 0.1, 'feat_dim': 128, 'optimizer': 'Adam', 'weight_decay': 0.0001}, 'dataset': {'path': '/gluster/data/dune/niclane/prod_strange_resample_fhc_run2_fhc_reco2_reco2_trainingimageanalyser_signal_lambdamuon_10_new_analysis.root', 'tree': 'imageanalyser/ImageTree', 'width': 512, 'height': 512, 'planes': ['U', 'V', 'W'], 'ind_plane_idx': 2}}\n",
      "['__class__', '__delattr__', '__dict__', '__dir__', '__doc__', '__eq__', '__format__', '__ge__', '__getattribute__', '__gt__', '__hash__', '__init__', '__init_subclass__', '__le__', '__lt__', '__module__', '__ne__', '__new__', '__reduce__', '__reduce_ex__', '__repr__', '__setattr__', '__sizeof__', '__str__', '__subclasshook__', '__weakref__', '_get_random', 'visualise_input_event', 'visualise_overlay_event', 'visualise_truth_event']\n"
     ]
    }
   ],
   "source": [
    "%load_ext autoreload\n",
    "%autoreload 2\n",
    "import yaml\n",
    "import os\n",
    "import torch\n",
    "import numpy as np\n",
    "import uproot\n",
    "import matplotlib.pyplot as plt\n",
    "from src.config import Config\n",
    "from src.dataset import SegmentationDataset, ContrastiveDataset  \n",
    "from src.visualiser import Visualiser\n",
    "from src.trainers import SegmentationTrainer, ContrastiveTrainer\n",
    "\n",
    "import importlib\n",
    "import src.visualiser as visualiser_module\n",
    "importlib.reload(visualiser_module)\n",
    "from src.visualiser import Visualiser\n",
    "\n",
    "pth = \"cfg/default.yaml\"\n",
    "cfg = Config(pth)\n",
    "\n",
    "print(cfg.as_dict())\n",
    "print(dir(Visualiser))"
   ]
  },
  {
   "cell_type": "code",
   "execution_count": 2,
   "metadata": {},
   "outputs": [],
   "source": [
    "ds = SegmentationDataset(cfg)\n",
    "vis = Visualiser(cfg)"
   ]
  },
  {
   "cell_type": "code",
   "execution_count": null,
   "metadata": {},
   "outputs": [],
   "source": []
  }
 ],
 "metadata": {
  "kernelspec": {
   "display_name": "pythondl",
   "language": "python",
   "name": "python3"
  },
  "language_info": {
   "codemirror_mode": {
    "name": "ipython",
    "version": 3
   },
   "file_extension": ".py",
   "mimetype": "text/x-python",
   "name": "python",
   "nbconvert_exporter": "python",
   "pygments_lexer": "ipython3",
   "version": "3.8.20"
  }
 },
 "nbformat": 4,
 "nbformat_minor": 2
}
