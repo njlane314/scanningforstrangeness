{
 "cells": [
  {
   "cell_type": "code",
   "execution_count": 2,
   "id": "090b9e00",
   "metadata": {},
   "outputs": [],
   "source": [
    "import uproot\n",
    "import numpy as np\n",
    "import matplotlib.pyplot as plt\n",
    "import matplotlib.colors as colors\n",
    "\n"
   ]
  },
  {
   "cell_type": "code",
   "execution_count": 3,
   "id": "d2a3110e",
   "metadata": {},
   "outputs": [
    {
     "name": "stdout",
     "output_type": "stream",
     "text": [
      "['imageanalyser;1', 'imageanalyser/SampleTree;1', 'imageanalyser/ImageTree;1', 'FRH;1', 'FRV;1', 'rICKR;1', 'rICKI;1', 'PreC;1', 'PostC;1', 'PostO;1', 'PreD;1', 'PostDO;1', 'ER;1']\n"
     ]
    }
   ],
   "source": [
    "file_path = \"/gluster/data/dune/niclane/nlane_prod_strange_resample_fhc_run2_fhc_reco2_reco2_trainingimage_background_lambdamuon_ana.root\"  \n",
    "#file_path = \"/gluster/data/dune/niclane/test.root\"\n",
    "\n",
    "root_file = uproot.open(file_path)\n",
    "print(root_file.keys())"
   ]
  },
  {
   "cell_type": "code",
   "execution_count": 4,
   "id": "d50cfe18",
   "metadata": {},
   "outputs": [
    {
     "name": "stdout",
     "output_type": "stream",
     "text": [
      "['run', 'subrun', 'event', 'event_type', 'planes', 'width', 'height', 'input_data', 'truth_data']\n"
     ]
    }
   ],
   "source": [
    "tree_name = \"imageanalyser/ImageTree\" \n",
    "tree = root_file[tree_name]\n",
    "\n",
    "print(tree.keys())"
   ]
  },
  {
   "cell_type": "code",
   "execution_count": 5,
   "id": "0598ffd3",
   "metadata": {},
   "outputs": [
    {
     "name": "stdout",
     "output_type": "stream",
     "text": [
      "Shape: [[0.0, 0.0, 0.0, 0.0, 0.0, 0.0, 0.0, 0.0, ..., 0.0, 0.0, 0.0, 0.0, 0.0, 0.0, 0.0, 0.0], ...]\n",
      "Data Type: <class 'numpy.ndarray'>\n"
     ]
    }
   ],
   "source": [
    "input_data = tree[\"input_data\"].array(library=\"np\")\n",
    "truth_data = tree[\"truth_data\"].array(library=\"np\")\n",
    "\n",
    "print(\"Shape:\", input_data[1])\n",
    "print(\"Data Type:\", type(input_data))"
   ]
  },
  {
   "cell_type": "code",
   "execution_count": 6,
   "id": "8d3bc2b4",
   "metadata": {},
   "outputs": [
    {
     "name": "stdout",
     "output_type": "stream",
     "text": [
      "Number of events: 706\n",
      "Planes per event: 3\n",
      "Pixels per plane: 262144\n"
     ]
    }
   ],
   "source": [
    "print(f\"Number of events: {len(input_data)}\")  \n",
    "print(f\"Planes per event: {len(input_data[0])}\")  \n",
    "print(f\"Pixels per plane: {len(input_data[0][0])}\")"
   ]
  },
  {
   "cell_type": "code",
   "execution_count": 7,
   "id": "530e9d63",
   "metadata": {},
   "outputs": [
    {
     "name": "stdout",
     "output_type": "stream",
     "text": [
      "1\n",
      "<class 'numpy.ndarray'>\n",
      "<class 'uproot.containers.STLVector'>\n",
      "Number of entries in imageanalyser/ImageTree: 706\n"
     ]
    }
   ],
   "source": [
    "event_index = 2\n",
    "event = input_data[event_index]  \n",
    "truth_event = truth_data[event_index] \n",
    "\n",
    "run_numbers = tree[\"run\"].array(library=\"np\")\n",
    "subrun_numbers = tree[\"subrun\"].array(library=\"np\")\n",
    "event_numbers = tree[\"event\"].array(library=\"np\")\n",
    "\n",
    "event_type = tree[\"event_type\"].array(library=\"np\")\n",
    "\n",
    "print(event_type[event_index])\n",
    "\n",
    "print(type(input_data))\n",
    "plane = event[0]\n",
    "print(type(plane))\n",
    "\n",
    "num_entries = tree.num_entries\n",
    "print(f\"Number of entries in {tree_name}: {num_entries}\")"
   ]
  },
  {
   "cell_type": "code",
   "execution_count": 8,
   "id": "852c01c0",
   "metadata": {},
   "outputs": [],
   "source": [
    "W, H = 512, 512  \n",
    "\n",
    "plane_images = [np.array(list(plane), dtype=np.float32).reshape(H, W) for plane in event]\n",
    "truth_images = [np.array(list(plane), dtype=np.float32).reshape(H, W) for plane in truth_event]\n",
    "\n",
    "plane_labels = [\"U\", \"V\", \"W\"]\n",
    "\n",
    "r, sr, evnum = run_numbers[event_index], subrun_numbers[event_index], event_numbers[event_index]\n",
    "\n",
    "for i, (input_img, truth_img) in enumerate(zip(plane_images, truth_images)):\n",
    "    fig, ax = plt.subplots(figsize=(12, 12), dpi=600)\n",
    "\n",
    "    ax.imshow(input_img,\n",
    "              origin=\"lower\",\n",
    "              cmap=\"jet\",\n",
    "              norm=colors.PowerNorm(gamma=0.35, vmin=input_img.min(), vmax=input_img.max()))\n",
    "\n",
    "    overlay = False\n",
    "    if overlay:\n",
    "        ax.imshow(truth_img, origin=\"lower\", cmap=\"cool\", alpha=0.4)\n",
    "\n",
    "    ax.set_xticks([0, W - 1])\n",
    "    ax.set_yticks([0, H - 1])\n",
    "    ax.tick_params(axis=\"both\", direction=\"out\", length=6, width=1.5, labelsize=18)\n",
    "    ax.set_xlim(0, W - 1)\n",
    "    ax.set_ylim(0, H - 1)\n",
    "    ax.set_xlabel(\"Local Wire Coord\", fontsize=20)\n",
    "    ax.set_ylabel(\"Local Drift Time\", fontsize=20)\n",
    "    ax.set_title(f\"Plane {plane_labels[i]} (Run {r}, Subrun {sr}, Event {evnum})\", fontsize=22)\n",
    "\n",
    "    plt.tight_layout()\n",
    "    plt.savefig(f\"event_{r}_{sr}_{evnum}_plane_{plane_labels[i]}.png\")\n",
    "    plt.close(fig)"
   ]
  },
  {
   "cell_type": "code",
   "execution_count": 10,
   "id": "c06465db",
   "metadata": {},
   "outputs": [
    {
     "name": "stdout",
     "output_type": "stream",
     "text": [
      "Processing Event Index: 3\n",
      "Event Type: 1\n",
      "Processing Event Index: 4\n",
      "Event Type: 1\n",
      "Processing Event Index: 5\n",
      "Event Type: 1\n",
      "Processing Event Index: 6\n",
      "Event Type: 1\n",
      "Processing Event Index: 7\n",
      "Event Type: 1\n",
      "Processing Event Index: 8\n",
      "Event Type: 1\n",
      "Processing Event Index: 9\n",
      "Event Type: 1\n",
      "Processing Event Index: 10\n",
      "Event Type: 1\n",
      "Processing Event Index: 11\n",
      "Event Type: 1\n",
      "Processing Event Index: 12\n",
      "Event Type: 1\n",
      "Processing Event Index: 13\n",
      "Event Type: 1\n",
      "Processing Event Index: 14\n",
      "Event Type: 1\n",
      "Processing Event Index: 15\n",
      "Event Type: 1\n",
      "Processing Event Index: 16\n",
      "Event Type: 1\n",
      "Processing Event Index: 17\n",
      "Event Type: 1\n",
      "Processing Event Index: 18\n",
      "Event Type: 1\n",
      "Processing Event Index: 19\n",
      "Event Type: 1\n",
      "Processing Event Index: 20\n",
      "Event Type: 1\n"
     ]
    }
   ],
   "source": [
    "event_indices = [3, 4, 5, 6, 7, 8, 9, 10, 11, 12, 13, 14, 15, 16, 17, 18, 19, 20]\n",
    "\n",
    "run_numbers = tree[\"run\"].array(library=\"np\")\n",
    "subrun_numbers = tree[\"subrun\"].array(library=\"np\")\n",
    "event_numbers = tree[\"event\"].array(library=\"np\")\n",
    "event_type = tree[\"event_type\"].array(library=\"np\")\n",
    "\n",
    "W, H = 512, 512  \n",
    "plane_labels = [\"U\", \"V\", \"W\"]\n",
    "\n",
    "for event_index in event_indices:\n",
    "    event = input_data[event_index]  \n",
    "    truth_event = truth_data[event_index]  \n",
    "\n",
    "    print(f\"Processing Event Index: {event_index}\")\n",
    "    print(f\"Event Type: {event_type[event_index]}\")\n",
    "\n",
    "    r, sr, evnum = run_numbers[event_index], subrun_numbers[event_index], event_numbers[event_index]\n",
    "\n",
    "    plane_images = [np.array(list(plane), dtype=np.float32).reshape(H, W) for plane in event]\n",
    "    truth_images = [np.array(list(plane), dtype=np.float32).reshape(H, W) for plane in truth_event]\n",
    "\n",
    "    for i, (input_img, truth_img) in enumerate(zip(plane_images, truth_images)):\n",
    "        fig, ax = plt.subplots(figsize=(12, 12), dpi=600)\n",
    "\n",
    "        ax.imshow(input_img,\n",
    "                  origin=\"lower\",\n",
    "                  cmap=\"jet\",\n",
    "                  norm=colors.PowerNorm(gamma=0.35, vmin=input_img.min(), vmax=input_img.max()))\n",
    "\n",
    "        overlay = True\n",
    "        if overlay:\n",
    "            ax.imshow(truth_img, origin=\"lower\", cmap=\"cool\", alpha=0.4)\n",
    "\n",
    "        ax.set_xticks([0, W - 1])\n",
    "        ax.set_yticks([0, H - 1])\n",
    "        ax.tick_params(axis=\"both\", direction=\"out\", length=6, width=1.5, labelsize=18)\n",
    "        ax.set_xlim(0, W - 1)\n",
    "        ax.set_ylim(0, H - 1)\n",
    "        ax.set_xlabel(\"Local Wire Coord\", fontsize=20)\n",
    "        ax.set_ylabel(\"Local Drift Time\", fontsize=20)\n",
    "        ax.set_title(f\"Plane {plane_labels[i]} (Run {r}, Subrun {sr}, Event {evnum})\", fontsize=22)\n",
    "\n",
    "        plt.tight_layout()\n",
    "        plt.savefig(f\"event_{r}_{sr}_{evnum}_plane_{plane_labels[i]}.png\")\n",
    "        plt.close(fig)"
   ]
  },
  {
   "cell_type": "code",
   "execution_count": null,
   "id": "62f510e2",
   "metadata": {},
   "outputs": [],
   "source": []
  },
  {
   "cell_type": "code",
   "execution_count": null,
   "id": "1f1823df",
   "metadata": {},
   "outputs": [],
   "source": []
  },
  {
   "cell_type": "code",
   "execution_count": null,
   "id": "d573d4e5",
   "metadata": {},
   "outputs": [],
   "source": []
  }
 ],
 "metadata": {
  "kernelspec": {
   "display_name": "Python 3 (ipykernel)",
   "language": "python",
   "name": "python3"
  },
  "language_info": {
   "codemirror_mode": {
    "name": "ipython",
    "version": 3
   },
   "file_extension": ".py",
   "mimetype": "text/x-python",
   "name": "python",
   "nbconvert_exporter": "python",
   "pygments_lexer": "ipython3",
   "version": "3.8.20"
  }
 },
 "nbformat": 4,
 "nbformat_minor": 5
}
